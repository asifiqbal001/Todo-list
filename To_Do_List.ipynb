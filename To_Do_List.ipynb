{
  "nbformat": 4,
  "nbformat_minor": 0,
  "metadata": {
    "colab": {
      "name": "To Do List",
      "provenance": [],
      "authorship_tag": "ABX9TyPAviVTTnpqWVa79O+pGQDE",
      "include_colab_link": true
    },
    "kernelspec": {
      "name": "python3",
      "display_name": "Python 3"
    },
    "language_info": {
      "name": "python"
    }
  },
  "cells": [
    {
      "cell_type": "markdown",
      "metadata": {
        "id": "view-in-github",
        "colab_type": "text"
      },
      "source": [
        "<a href=\"https://colab.research.google.com/github/asifiqbal001/Todo-list/blob/main/To_Do_List.ipynb\" target=\"_parent\"><img src=\"https://colab.research.google.com/assets/colab-badge.svg\" alt=\"Open In Colab\"/></a>"
      ]
    },
    {
      "cell_type": "code",
      "metadata": {
        "id": "xjjgmxiRDf2N"
      },
      "source": [
        "courses = []\n",
        "\n",
        "def menu():\n",
        "    print(\"1 to add courses\")\n",
        "    print(\"2 to view courses\")\n",
        "    print(\"3 to delete courses\")\n",
        "    print(\"4 to remove all courses\")\n",
        "\n",
        "def semester_info():\n",
        "    try:\n",
        "        menu()\n",
        "        key = int(input(\">>\"))\n",
        "        if key == 1:\n",
        "                add_value = input(\"Enter the Courses Name : \").upper()\n",
        "                courses.append(add_value)\n",
        "                viewCourse()\n",
        "\n",
        "        elif key == 2:\n",
        "            viewCourse()\n",
        "            main_menu()\n",
        "\n",
        "        elif key == 3:\n",
        "            try:\n",
        "                del_itm = int(input(\"Enter the Index number of delect Courses name : \"))\n",
        "                courses.pop(del_itm)\n",
        "                print(\"Deleted Done\")\n",
        "                viewCourse()\n",
        "                main_menu()\n",
        "            except:\n",
        "                print(\"Error!\\nPlease Recheck Your Values.\\n\")\n",
        "                semester_info()\n",
        "\n",
        "        elif key == 4:\n",
        "            courses.clear()\n",
        "            print(\"Course List Null Now\")\n",
        "            viewCourse()\n",
        "            main_menu()\n",
        "\n",
        "        else:\n",
        "            print(\"You Enter Wrong keyword\")\n",
        "            semester_info()\n",
        "\n",
        "    except:\n",
        "        print(\"Please Recheck Your Input.\\n\")\n",
        "        main_menu()\n",
        "\n",
        "\n",
        "def viewCourse():\n",
        "    count = len(courses)\n",
        "    if count == 0:\n",
        "        print(\"You have no courses\")\n",
        "    for i in range(count):\n",
        "        print(f\"{i}. {courses[i]}\")\n",
        "    main_menu()\n",
        "\n",
        "def main_menu():\n",
        "    semester_info()\n",
        "\n",
        "\n",
        "main_menu()"
      ],
      "execution_count": null,
      "outputs": []
    }
  ]
}